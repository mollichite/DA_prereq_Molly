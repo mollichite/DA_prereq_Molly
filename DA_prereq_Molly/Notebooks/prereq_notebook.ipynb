{
 "cells": [
  {
   "cell_type": "code",
   "execution_count": 1,
   "id": "94113f71",
   "metadata": {},
   "outputs": [
    {
     "name": "stdout",
     "output_type": "stream",
     "text": [
      "yo yo yo\n"
     ]
    }
   ],
   "source": [
    "print (\"yo yo yo\")"
   ]
  },
  {
   "cell_type": "markdown",
   "id": "45c986c0",
   "metadata": {},
   "source": [
    "Hi my name is Molly, I currently work for the United States Geological Survey (USGS) and have been there for 14 years.  I am excited to take the next step in my career to really dive into data analysis. I have a 2 year old daughter. I love to garden and be outside. Thanks in advance for your patience during this course. "
   ]
  }
 ],
 "metadata": {
  "kernelspec": {
   "display_name": "Python 3",
   "language": "python",
   "name": "python3"
  },
  "language_info": {
   "codemirror_mode": {
    "name": "ipython",
    "version": 3
   },
   "file_extension": ".py",
   "mimetype": "text/x-python",
   "name": "python",
   "nbconvert_exporter": "python",
   "pygments_lexer": "ipython3",
   "version": "3.13.5"
  }
 },
 "nbformat": 4,
 "nbformat_minor": 5
}
